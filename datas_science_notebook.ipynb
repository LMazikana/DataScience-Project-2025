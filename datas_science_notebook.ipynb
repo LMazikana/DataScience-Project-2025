{
  "nbformat": 4,
  "nbformat_minor": 0,
  "metadata": {
    "colab": {
      "provenance": [],
      "toc_visible": true,
      "authorship_tag": "ABX9TyM53uEhwAAl4k40Jn7rTJGJ",
      "include_colab_link": true
    },
    "kernelspec": {
      "name": "python3",
      "display_name": "Python 3"
    },
    "language_info": {
      "name": "python"
    }
  },
  "cells": [
    {
      "cell_type": "markdown",
      "metadata": {
        "id": "view-in-github",
        "colab_type": "text"
      },
      "source": [
        "<a href=\"https://colab.research.google.com/github/LMazikana/DataScience-Project-2025/blob/main/datas_science_notebook.ipynb\" target=\"_parent\"><img src=\"https://colab.research.google.com/assets/colab-badge.svg\" alt=\"Open In Colab\"/></a>"
      ]
    },
    {
      "cell_type": "markdown",
      "source": [
        "## Ingest"
      ],
      "metadata": {
        "id": "JrBpAPIDppUe"
      }
    },
    {
      "cell_type": "code",
      "execution_count": null,
      "metadata": {
        "id": "l8rhvdy-orvP"
      },
      "outputs": [],
      "source": []
    },
    {
      "cell_type": "markdown",
      "source": [
        "## EDA"
      ],
      "metadata": {
        "id": "-C1qk7JKqKAZ"
      }
    },
    {
      "cell_type": "code",
      "source": [],
      "metadata": {
        "id": "ZSQbjKEUqPpA"
      },
      "execution_count": null,
      "outputs": []
    },
    {
      "cell_type": "markdown",
      "source": [
        "## Modeling"
      ],
      "metadata": {
        "id": "0si7jeVjrr1A"
      }
    },
    {
      "cell_type": "markdown",
      "source": [
        "###Classification Algorithm A\n"
      ],
      "metadata": {
        "id": "pIfuiqTeqsfA"
      }
    },
    {
      "cell_type": "markdown",
      "source": [
        "### Classification Algorithm B"
      ],
      "metadata": {
        "id": "cw5gE9Yoq6NB"
      }
    },
    {
      "cell_type": "code",
      "source": [],
      "metadata": {
        "id": "4CaCZF9tr4HL"
      },
      "execution_count": null,
      "outputs": []
    },
    {
      "cell_type": "markdown",
      "source": [
        "## Conclusion"
      ],
      "metadata": {
        "id": "hJ6XH3xhqWl1"
      }
    },
    {
      "cell_type": "code",
      "source": [],
      "metadata": {
        "id": "YPrRkpudqZqg"
      },
      "execution_count": null,
      "outputs": []
    }
  ]
}